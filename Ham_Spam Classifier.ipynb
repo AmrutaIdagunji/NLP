{
 "cells": [
  {
   "cell_type": "markdown",
   "metadata": {},
   "source": [
    "### Importing Libraries"
   ]
  },
  {
   "cell_type": "code",
   "execution_count": 1,
   "metadata": {},
   "outputs": [],
   "source": [
    "import nltk\n",
    "import matplotlib.pyplot as plt\n",
    "%matplotlib inline\n",
    "import seaborn as sns\n",
    "import pandas as pd\n",
    "\n",
    "import re\n",
    "from nltk.corpus import stopwords\n",
    "from nltk.stem.porter import PorterStemmer"
   ]
  },
  {
   "cell_type": "markdown",
   "metadata": {},
   "source": [
    "### Import the dataset"
   ]
  },
  {
   "cell_type": "code",
   "execution_count": 2,
   "metadata": {},
   "outputs": [],
   "source": [
    "messages = pd.read_csv('SMSSpamCollection', sep = '\\t', names=['label', 'messgaes'])"
   ]
  },
  {
   "cell_type": "code",
   "execution_count": 3,
   "metadata": {},
   "outputs": [
    {
     "data": {
      "text/plain": [
       "5574"
      ]
     },
     "execution_count": 3,
     "metadata": {},
     "output_type": "execute_result"
    }
   ],
   "source": [
    "messagesLen = len([line.rstrip() for line in open('SMSSpamCollection')])\n",
    "messagesLen"
   ]
  },
  {
   "cell_type": "markdown",
   "metadata": {},
   "source": [
    "### Exploratory Data Analysis"
   ]
  },
  {
   "cell_type": "code",
   "execution_count": 4,
   "metadata": {},
   "outputs": [
    {
     "data": {
      "text/html": [
       "<div>\n",
       "<style scoped>\n",
       "    .dataframe tbody tr th:only-of-type {\n",
       "        vertical-align: middle;\n",
       "    }\n",
       "\n",
       "    .dataframe tbody tr th {\n",
       "        vertical-align: top;\n",
       "    }\n",
       "\n",
       "    .dataframe thead th {\n",
       "        text-align: right;\n",
       "    }\n",
       "</style>\n",
       "<table border=\"1\" class=\"dataframe\">\n",
       "  <thead>\n",
       "    <tr style=\"text-align: right;\">\n",
       "      <th></th>\n",
       "      <th>label</th>\n",
       "      <th>messgaes</th>\n",
       "      <th>length</th>\n",
       "    </tr>\n",
       "  </thead>\n",
       "  <tbody>\n",
       "    <tr>\n",
       "      <th>0</th>\n",
       "      <td>ham</td>\n",
       "      <td>Go until jurong point, crazy.. Available only ...</td>\n",
       "      <td>111</td>\n",
       "    </tr>\n",
       "    <tr>\n",
       "      <th>1</th>\n",
       "      <td>ham</td>\n",
       "      <td>Ok lar... Joking wif u oni...</td>\n",
       "      <td>29</td>\n",
       "    </tr>\n",
       "    <tr>\n",
       "      <th>2</th>\n",
       "      <td>spam</td>\n",
       "      <td>Free entry in 2 a wkly comp to win FA Cup fina...</td>\n",
       "      <td>155</td>\n",
       "    </tr>\n",
       "    <tr>\n",
       "      <th>3</th>\n",
       "      <td>ham</td>\n",
       "      <td>U dun say so early hor... U c already then say...</td>\n",
       "      <td>49</td>\n",
       "    </tr>\n",
       "    <tr>\n",
       "      <th>4</th>\n",
       "      <td>ham</td>\n",
       "      <td>Nah I don't think he goes to usf, he lives aro...</td>\n",
       "      <td>61</td>\n",
       "    </tr>\n",
       "  </tbody>\n",
       "</table>\n",
       "</div>"
      ],
      "text/plain": [
       "  label                                           messgaes  length\n",
       "0   ham  Go until jurong point, crazy.. Available only ...     111\n",
       "1   ham                      Ok lar... Joking wif u oni...      29\n",
       "2  spam  Free entry in 2 a wkly comp to win FA Cup fina...     155\n",
       "3   ham  U dun say so early hor... U c already then say...      49\n",
       "4   ham  Nah I don't think he goes to usf, he lives aro...      61"
      ]
     },
     "execution_count": 4,
     "metadata": {},
     "output_type": "execute_result"
    }
   ],
   "source": [
    "# Identify if the length of the message can help with ham/spam identification\n",
    "messages['length'] = messages['messgaes'].apply(len)\n",
    "messages.head()"
   ]
  },
  {
   "cell_type": "code",
   "execution_count": 5,
   "metadata": {},
   "outputs": [
    {
     "data": {
      "text/plain": [
       "<matplotlib.axes._subplots.AxesSubplot at 0x1eeec5de940>"
      ]
     },
     "execution_count": 5,
     "metadata": {},
     "output_type": "execute_result"
    },
    {
     "data": {
      "image/png": "[encoded data removed]",
      "text/plain": [
       "<Figure size 432x288 with 1 Axes>"
      ]
     },
     "metadata": {},
     "output_type": "display_data"
    }
   ],
   "source": [
    "messages['length'].plot.hist(bins=150)"
   ]
  },
  {
   "cell_type": "code",
   "execution_count": 6,
   "metadata": {},
   "outputs": [
    {
     "data": {
      "text/plain": [
       "array([<matplotlib.axes._subplots.AxesSubplot object at 0x000001EEECAB0DD8>,\n",
       "       <matplotlib.axes._subplots.AxesSubplot object at 0x000001EEECCAF278>],\n",
       "      dtype=object)"
      ]
     },
     "execution_count": 6,
     "metadata": {},
     "output_type": "execute_result"
    },
    {
     "data": {
      "image/png": "[encoded data removed]",
      "text/plain": [
       "<Figure size 864x288 with 2 Axes>"
      ]
     },
     "metadata": {},
     "output_type": "display_data"
    }
   ],
   "source": [
    "messages.hist(column='length', by = 'label', bins = 60, figsize = (12,4))"
   ]
  },
  {
   "cell_type": "code",
   "execution_count": 7,
   "metadata": {},
   "outputs": [
    {
     "data": {
      "text/plain": [
       "<matplotlib.axes._subplots.AxesSubplot at 0x1eeecf4d8d0>"
      ]
     },
     "execution_count": 7,
     "metadata": {},
     "output_type": "execute_result"
    },
    {
     "data": {
      "image/png": "[encoded data removed]",
      "text/plain": [
       "<Figure size 432x288 with 1 Axes>"
      ]
     },
     "metadata": {},
     "output_type": "display_data"
    }
   ],
   "source": [
    "sns.boxplot(x='label',y='length',data=messages,palette='rainbow')"
   ]
  },
  {
   "cell_type": "code",
   "execution_count": 8,
   "metadata": {},
   "outputs": [
    {
     "data": {
      "text/plain": [
       "<matplotlib.axes._subplots.AxesSubplot at 0x1eeed0c8208>"
      ]
     },
     "execution_count": 8,
     "metadata": {},
     "output_type": "execute_result"
    },
    {
     "data": {
      "image/png": "[encoded data removed]",
      "text/plain": [
       "<Figure size 432x288 with 1 Axes>"
      ]
     },
     "metadata": {},
     "output_type": "display_data"
    }
   ],
   "source": [
    "sns.countplot(x='label',data=messages,palette='rainbow')"
   ]
  },
  {
   "cell_type": "markdown",
   "metadata": {},
   "source": [
    "Conclusion: most Spam messages are smaller in text length"
   ]
  },
  {
   "cell_type": "markdown",
   "metadata": {},
   "source": [
    "### Creating corpus, tokenization, stemming, stopwords"
   ]
  },
  {
   "cell_type": "code",
   "execution_count": 9,
   "metadata": {},
   "outputs": [],
   "source": [
    "corpus = []"
   ]
  },
  {
   "cell_type": "markdown",
   "metadata": {},
   "source": [
    "## Text Preprocessing"
   ]
  },
  {
   "cell_type": "code",
   "execution_count": 10,
   "metadata": {},
   "outputs": [
    {
     "name": "stdout",
     "output_type": "stream",
     "text": [
      "5572\n"
     ]
    }
   ],
   "source": [
    "for i in range(0, 5572):\n",
    "    review = re.sub('[^a-zA-Z]', ' ', messages[\"messgaes\"][i])\n",
    "    review = review.lower()\n",
    "    review = review.split()\n",
    "    ps = PorterStemmer()\n",
    "    review = [ps.stem(word) for word in review if not word in set(stopwords.words('english'))]\n",
    "    review = ' '.join(review)\n",
    "    corpus.append(review)\n",
    "print(len(corpus))"
   ]
  },
  {
   "cell_type": "markdown",
   "metadata": {},
   "source": [
    "## Creating the Bag of Words model"
   ]
  },
  {
   "cell_type": "code",
   "execution_count": 11,
   "metadata": {},
   "outputs": [],
   "source": [
    "from sklearn.feature_extraction.text import CountVectorizer\n",
    "cv = CountVectorizer(max_features = 1500)\n",
    "X = cv.fit_transform(corpus).toarray()\n",
    "y = messages.iloc[:, 0].values"
   ]
  },
  {
   "cell_type": "markdown",
   "metadata": {},
   "source": [
    "## Splitting the dataset into the Training set and Test set"
   ]
  },
  {
   "cell_type": "code",
   "execution_count": 12,
   "metadata": {},
   "outputs": [],
   "source": [
    "from sklearn.model_selection import train_test_split\n",
    "X_train, X_test, y_train, y_test = train_test_split(X, y, test_size = 0.20, random_state = 0)"
   ]
  },
  {
   "cell_type": "markdown",
   "metadata": {},
   "source": [
    "## Training the Naive Bayes model on the Training set"
   ]
  },
  {
   "cell_type": "code",
   "execution_count": 13,
   "metadata": {},
   "outputs": [
    {
     "data": {
      "text/plain": [
       "GaussianNB(priors=None)"
      ]
     },
     "execution_count": 13,
     "metadata": {},
     "output_type": "execute_result"
    }
   ],
   "source": [
    "from sklearn.naive_bayes import GaussianNB\n",
    "classifier = GaussianNB()\n",
    "classifier.fit(X_train, y_train)"
   ]
  },
  {
   "cell_type": "markdown",
   "metadata": {},
   "source": [
    "## Predicting the Test set results"
   ]
  },
  {
   "cell_type": "code",
   "execution_count": 14,
   "metadata": {},
   "outputs": [
    {
     "name": "stdout",
     "output_type": "stream",
     "text": [
      "spam ham\n",
      "spam ham\n",
      "spam ham\n",
      "spam ham\n",
      "spam ham\n",
      "spam ham\n",
      "spam ham\n",
      "spam ham\n",
      "spam ham\n",
      "spam ham\n",
      "spam ham\n",
      "spam ham\n",
      "ham spam\n",
      "spam ham\n",
      "spam ham\n",
      "spam ham\n",
      "spam ham\n",
      "spam ham\n",
      "spam ham\n",
      "spam ham\n",
      "spam ham\n",
      "spam ham\n",
      "spam ham\n",
      "spam ham\n",
      "spam ham\n",
      "spam ham\n",
      "spam ham\n",
      "spam ham\n",
      "spam ham\n",
      "spam ham\n",
      "spam ham\n",
      "spam ham\n",
      "spam ham\n",
      "spam ham\n",
      "spam ham\n",
      "spam ham\n",
      "spam ham\n",
      "spam ham\n",
      "spam ham\n",
      "spam ham\n",
      "spam ham\n",
      "spam ham\n",
      "spam ham\n",
      "spam ham\n",
      "spam ham\n",
      "spam ham\n",
      "spam ham\n",
      "spam ham\n",
      "spam ham\n",
      "spam ham\n",
      "spam ham\n",
      "spam ham\n",
      "ham spam\n",
      "spam ham\n",
      "spam ham\n",
      "spam ham\n",
      "spam ham\n",
      "spam ham\n",
      "spam ham\n",
      "spam ham\n",
      "spam ham\n",
      "spam ham\n",
      "spam ham\n",
      "spam ham\n",
      "spam ham\n",
      "ham spam\n",
      "spam ham\n",
      "spam ham\n",
      "spam ham\n",
      "spam ham\n",
      "spam ham\n",
      "spam ham\n",
      "spam ham\n",
      "spam ham\n",
      "spam ham\n",
      "spam ham\n",
      "ham spam\n",
      "spam ham\n",
      "spam ham\n",
      "spam ham\n",
      "spam ham\n",
      "spam ham\n",
      "spam ham\n",
      "ham spam\n",
      "ham spam\n",
      "spam ham\n",
      "spam ham\n",
      "spam ham\n",
      "spam ham\n",
      "spam ham\n",
      "spam ham\n",
      "ham spam\n",
      "spam ham\n",
      "spam ham\n",
      "spam ham\n",
      "spam ham\n",
      "spam ham\n",
      "spam ham\n",
      "spam ham\n",
      "spam ham\n",
      "ham spam\n",
      "spam ham\n",
      "spam ham\n",
      "spam ham\n",
      "spam ham\n",
      "spam ham\n",
      "spam ham\n",
      "spam ham\n",
      "spam ham\n",
      "spam ham\n",
      "spam ham\n",
      "spam ham\n",
      "spam ham\n",
      "spam ham\n",
      "spam ham\n",
      "spam ham\n",
      "spam ham\n",
      "spam ham\n",
      "spam ham\n",
      "spam ham\n",
      "spam ham\n",
      "spam ham\n",
      "spam ham\n",
      "spam ham\n",
      "spam ham\n",
      "spam ham\n",
      "spam ham\n",
      "spam ham\n",
      "spam ham\n",
      "spam ham\n",
      "spam ham\n",
      "spam ham\n",
      "spam ham\n",
      "spam ham\n",
      "spam ham\n",
      "spam ham\n",
      "spam ham\n",
      "ham spam\n",
      "spam ham\n",
      "spam ham\n",
      "spam ham\n",
      "spam ham\n",
      "spam ham\n",
      "spam ham\n",
      "spam ham\n",
      "spam ham\n",
      "ham spam\n",
      "spam ham\n",
      "spam ham\n",
      "spam ham\n",
      "spam ham\n",
      "spam ham\n",
      "spam ham\n",
      "spam ham\n",
      "spam ham\n",
      "ham spam\n",
      "spam ham\n",
      "spam ham\n",
      "spam ham\n",
      "spam ham\n",
      "spam ham\n",
      "spam ham\n",
      "spam ham\n",
      "spam ham\n",
      "spam ham\n",
      "spam ham\n",
      "spam ham\n",
      "spam ham\n",
      "spam ham\n",
      "spam ham\n",
      "spam ham\n",
      "spam ham\n",
      "spam ham\n",
      "spam ham\n",
      "spam ham\n",
      "spam ham\n",
      "spam ham\n",
      "ham spam\n",
      "spam ham\n",
      "spam ham\n",
      "spam ham\n",
      "spam ham\n",
      "spam ham\n",
      "spam ham\n",
      "spam ham\n",
      "spam ham\n",
      "spam ham\n",
      "spam ham\n",
      "spam ham\n",
      "spam ham\n",
      "spam ham\n",
      "spam ham\n",
      "spam ham\n",
      "spam ham\n",
      "spam ham\n",
      "spam ham\n",
      "spam ham\n",
      "spam ham\n",
      "spam ham\n",
      "spam ham\n",
      "spam ham\n",
      "spam ham\n",
      "spam ham\n"
     ]
    }
   ],
   "source": [
    "y_pred = classifier.predict(X_test)\n",
    "for i in range(0,len(y_pred)):\n",
    "    if(y_pred[i] != y_test[i]):\n",
    "        print(y_pred[i], y_test[i])"
   ]
  },
  {
   "cell_type": "markdown",
   "metadata": {},
   "source": [
    "## Making the Confusion Matrix"
   ]
  },
  {
   "cell_type": "code",
   "execution_count": 15,
   "metadata": {},
   "outputs": [
    {
     "name": "stdout",
     "output_type": "stream",
     "text": [
      "Confusion Matrix\n",
      "[[764 191]\n",
      " [ 12 148]]\n",
      "Accuracy:  0.8179372197309417\n"
     ]
    }
   ],
   "source": [
    "from sklearn.metrics import confusion_matrix, accuracy_score, precision_score, recall_score\n",
    "cm = confusion_matrix(y_test, y_pred)\n",
    "ac = accuracy_score(y_test, y_pred)\n",
    "print(\"Confusion Matrix\")\n",
    "print(cm)\n",
    "print(\"Accuracy: \", ac)"
   ]
  }
 ],
 "metadata": {
  "kernelspec": {
   "display_name": "Python 3",
   "language": "python",
   "name": "python3"
  },
  "language_info": {
   "codemirror_mode": {
    "name": "ipython",
    "version": 3
   },
   "file_extension": ".py",
   "mimetype": "text/x-python",
   "name": "python",
   "nbconvert_exporter": "python",
   "pygments_lexer": "ipython3",
   "version": "3.6.5"
  }
 },
 "nbformat": 4,
 "nbformat_minor": 2
}
